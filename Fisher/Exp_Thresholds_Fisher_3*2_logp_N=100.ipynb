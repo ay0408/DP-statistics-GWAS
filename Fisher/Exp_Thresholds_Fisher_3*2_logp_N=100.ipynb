{
 "cells": [
  {
   "cell_type": "code",
   "execution_count": 1,
   "metadata": {},
   "outputs": [],
   "source": [
    "import numpy as np\n",
    "import math\n",
    "from scipy import integrate\n",
    "import matplotlib.pyplot as plt\n",
    "import random"
   ]
  },
  {
   "cell_type": "code",
   "execution_count": 2,
   "metadata": {},
   "outputs": [
    {
     "name": "stdout",
     "output_type": "stream",
     "text": [
      "[0.6213183  0.0181615  0.73136846 ... 0.06416515 0.24541434 0.05206183]\n",
      "56\n"
     ]
    }
   ],
   "source": [
    "data = np.zeros(1000000000)\n",
    "sig = 0\n",
    "\n",
    "for i in range(1000000000):\n",
    "    data[i] = random.uniform(0.000000000000001, 1)\n",
    "    data[i] = -math.log10(data[i])\n",
    "    if data[i] >= 7.3:\n",
    "        sig += 1\n",
    "\n",
    "print(data)\n",
    "print(sig)"
   ]
  },
  {
   "cell_type": "code",
   "execution_count": 3,
   "metadata": {},
   "outputs": [],
   "source": [
    "def lap_noise(data, epsilon, N):\n",
    "    sc = math.log10((N+2)/2.0)\n",
    "    pri_data = data + np.random.laplace(loc = 0.0, scale = sc/epsilon, size=data.shape)\n",
    "    \n",
    "    min = 10000\n",
    "    \n",
    "    for i in range(1000000000):\n",
    "        if pri_data[i] > 0 and pri_data[i] < min:\n",
    "            min = pri_data[i]\n",
    "    \n",
    "    for i in range(1000000000):\n",
    "        if pri_data[i] < 0:\n",
    "            pri_data[i] = min\n",
    "    \n",
    "    return pri_data"
   ]
  },
  {
   "cell_type": "code",
   "execution_count": 4,
   "metadata": {},
   "outputs": [],
   "source": [
    "def precision(tp,fp):\n",
    "    return tp/(tp+fp)\n",
    "\n",
    "def recall(tp,fn):\n",
    "    return tp/(tp+fn)\n",
    "\n",
    "def f(tp,fp,fn):\n",
    "    pre = precision(tp,fp)\n",
    "    rec = recall(tp,fn)\n",
    "    return 2*pre*rec/(pre+rec)"
   ]
  },
  {
   "cell_type": "code",
   "execution_count": 5,
   "metadata": {},
   "outputs": [
    {
     "name": "stdout",
     "output_type": "stream",
     "text": [
      "[6.16037654e-01 4.82352068e-01 9.79490170e-01 ... 3.06784144e-09\n",
      " 3.92965375e-01 3.06784144e-09]\n"
     ]
    }
   ],
   "source": [
    "pri_data = lap_noise(data, 10, 100)\n",
    "print(pri_data)"
   ]
  },
  {
   "cell_type": "code",
   "execution_count": 6,
   "metadata": {},
   "outputs": [
    {
     "name": "stdout",
     "output_type": "stream",
     "text": [
      "1148\n"
     ]
    }
   ],
   "source": [
    "si = 0\n",
    "sigi = np.zeros(1000000000)\n",
    "\n",
    "for i in range(1000000000):\n",
    "    if pri_data[i] >= 6:\n",
    "        sigi[si] = i\n",
    "        si += 1\n",
    "\n",
    "print(si)"
   ]
  },
  {
   "cell_type": "code",
   "execution_count": 7,
   "metadata": {},
   "outputs": [],
   "source": [
    "tp = np.zeros(30)\n",
    "fp = np.zeros(30)\n",
    "fn = np.zeros(30)\n",
    "\n",
    "th = np.zeros(30)\n",
    "\n",
    "for i in range(30):\n",
    "    th[i] = 6 + i*0.1\n",
    "\n",
    "\n",
    "for i in range(si):\n",
    "    for j in range(30):\n",
    "        if pri_data[int(sigi[i])] > th[j]:\n",
    "            if data[int(sigi[i])] >= 7.3:\n",
    "                tp[j] += 1\n",
    "            else:\n",
    "                fp[j] += 1\n",
    "        else:\n",
    "            break\n",
    "\n",
    "for j in range(30):\n",
    "    fn[j] = sig - tp[j]"
   ]
  },
  {
   "cell_type": "code",
   "execution_count": 8,
   "metadata": {},
   "outputs": [
    {
     "name": "stderr",
     "output_type": "stream",
     "text": [
      "The PostScript backend does not support transparency; partially transparent artists will be rendered opaque.\n",
      "The PostScript backend does not support transparency; partially transparent artists will be rendered opaque.\n"
     ]
    },
    {
     "name": "stdout",
     "output_type": "stream",
     "text": [
      "0.8545454545454546 7.4\n"
     ]
    },
    {
     "data": {
      "image/png": "[encoded data removed]",
      "text/plain": [
       "<Figure size 432x288 with 1 Axes>"
      ]
     },
     "metadata": {
      "needs_background": "light"
     },
     "output_type": "display_data"
    }
   ],
   "source": [
    "pre = np.zeros(30)\n",
    "rec = np.zeros(30)\n",
    "fme = np.zeros(30)\n",
    "\n",
    "max = 0\n",
    "maxi = 0\n",
    "\n",
    "for i in range(30):\n",
    "    pre[i] = precision(tp[i], fp[i])\n",
    "    rec[i] = recall(tp[i], fn[i])\n",
    "    fme[i] = f(tp[i],fp[i],fn[i])\n",
    "    if fme[i] > max:\n",
    "        max = fme[i]\n",
    "        maxi = i\n",
    "\n",
    "print(max, 6 + maxi*0.1)\n",
    "\n",
    "fig = plt.figure()\n",
    "plt.ylim(-0.05,1.05)\n",
    "plt.xlim(6,8.9)\n",
    "plt.plot(th, pre, marker=\"\", color = \"green\", linestyle = \"-\", label = \"precision\")\n",
    "plt.plot(th, rec, marker=\"\", color = \"blue\", linestyle = \"--\", label = \"recall\")\n",
    "plt.plot(th, fme, marker=\"\", color = \"red\", linestyle = \"dotted\", label = \"f-measure\")\n",
    "plt.axhline(0.8, color = \"black\", linestyle = \"-.\")\n",
    "plt.legend()\n",
    "plt.xlabel(\"thresholds\")\n",
    "plt.ylabel(\"\")\n",
    "fig.savefig(\"thresholds_Fisher_32_logp_N=100_epsilon=10.png\")\n",
    "fig.savefig(\"fig/thresholds_Fisher_32_logp_N=100_epsilon=10.eps\")"
   ]
  },
  {
   "cell_type": "code",
   "execution_count": 9,
   "metadata": {},
   "outputs": [
    {
     "name": "stdout",
     "output_type": "stream",
     "text": [
      "[0.67201982 0.045032   0.30996635 ... 0.50535459 0.4273869  0.42375502]\n"
     ]
    }
   ],
   "source": [
    "pri_data = lap_noise(data, 7, 100)\n",
    "print(pri_data)"
   ]
  },
  {
   "cell_type": "code",
   "execution_count": 10,
   "metadata": {},
   "outputs": [
    {
     "name": "stdout",
     "output_type": "stream",
     "text": [
      "1419\n"
     ]
    }
   ],
   "source": [
    "si = 0\n",
    "sigi = np.zeros(1000000000)\n",
    "\n",
    "for i in range(1000000000):\n",
    "    if pri_data[i] >= 6:\n",
    "        sigi[si] = i\n",
    "        si += 1\n",
    "\n",
    "print(si)"
   ]
  },
  {
   "cell_type": "code",
   "execution_count": 11,
   "metadata": {},
   "outputs": [],
   "source": [
    "tp = np.zeros(30)\n",
    "fp = np.zeros(30)\n",
    "fn = np.zeros(30)\n",
    "\n",
    "th = np.zeros(30)\n",
    "\n",
    "for i in range(30):\n",
    "    th[i] = 6 + i*0.1\n",
    "\n",
    "\n",
    "for i in range(si):\n",
    "    for j in range(30):\n",
    "        if pri_data[int(sigi[i])] > th[j]:\n",
    "            if data[int(sigi[i])] >= 7.3:\n",
    "                tp[j] += 1\n",
    "            else:\n",
    "                fp[j] += 1\n",
    "        else:\n",
    "            break\n",
    "\n",
    "for j in range(30):\n",
    "    fn[j] = sig - tp[j]"
   ]
  },
  {
   "cell_type": "code",
   "execution_count": 12,
   "metadata": {},
   "outputs": [
    {
     "name": "stderr",
     "output_type": "stream",
     "text": [
      "The PostScript backend does not support transparency; partially transparent artists will be rendered opaque.\n",
      "The PostScript backend does not support transparency; partially transparent artists will be rendered opaque.\n"
     ]
    },
    {
     "name": "stdout",
     "output_type": "stream",
     "text": [
      "0.6605504587155964 7.4\n"
     ]
    },
    {
     "data": {
      "image/png": "[encoded data removed]",
      "text/plain": [
       "<Figure size 432x288 with 1 Axes>"
      ]
     },
     "metadata": {
      "needs_background": "light"
     },
     "output_type": "display_data"
    }
   ],
   "source": [
    "pre = np.zeros(30)\n",
    "rec = np.zeros(30)\n",
    "fme = np.zeros(30)\n",
    "\n",
    "max = 0\n",
    "maxi = 0\n",
    "\n",
    "for i in range(30):\n",
    "    pre[i] = precision(tp[i], fp[i])\n",
    "    rec[i] = recall(tp[i], fn[i])\n",
    "    fme[i] = f(tp[i],fp[i],fn[i])\n",
    "    if fme[i] > max:\n",
    "        max = fme[i]\n",
    "        maxi = i\n",
    "\n",
    "print(max, 6 + maxi*0.1)\n",
    "\n",
    "fig = plt.figure()\n",
    "plt.ylim(-0.05,1.05)\n",
    "plt.xlim(6,8.9)\n",
    "plt.plot(th, pre, marker=\"\", color = \"green\", linestyle = \"-\", label = \"precision\")\n",
    "plt.plot(th, rec, marker=\"\", color = \"blue\", linestyle = \"--\", label = \"recall\")\n",
    "plt.plot(th, fme, marker=\"\", color = \"red\", linestyle = \"dotted\", label = \"f-measure\")\n",
    "plt.axhline(0.8, color = \"black\", linestyle = \"-.\")\n",
    "plt.legend()\n",
    "plt.xlabel(\"thresholds\")\n",
    "plt.ylabel(\"\")\n",
    "fig.savefig(\"thresholds_Fisher_32_logp_N=100_epsilon=7.png\")\n",
    "fig.savefig(\"fig/thresholds_Fisher_32_logp_N=100_epsilon=7.eps\")"
   ]
  },
  {
   "cell_type": "code",
   "execution_count": null,
   "metadata": {},
   "outputs": [],
   "source": []
  }
 ],
 "metadata": {
  "kernelspec": {
   "display_name": "Python 3",
   "language": "python",
   "name": "python3"
  },
  "language_info": {
   "codemirror_mode": {
    "name": "ipython",
    "version": 3
   },
   "file_extension": ".py",
   "mimetype": "text/x-python",
   "name": "python",
   "nbconvert_exporter": "python",
   "pygments_lexer": "ipython3",
   "version": "3.8.3"
  }
 },
 "nbformat": 4,
 "nbformat_minor": 4
}
